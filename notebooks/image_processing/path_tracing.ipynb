{
 "cells": [
  {
   "cell_type": "code",
   "execution_count": 1,
   "metadata": {},
   "outputs": [],
   "source": [
    "import numpy as np\n",
    "import cv2\n",
    "import glob\n",
    "import matplotlib.pyplot as plt\n",
    "import matplotlib.image as mpimg\n",
    "\n",
    "\n",
    "# %matplotlib qt\n",
    "%matplotlib inline\n"
   ]
  },
  {
   "cell_type": "code",
   "execution_count": 2,
   "metadata": {},
   "outputs": [],
   "source": [
    "# Global functions\n"
   ]
  },
  {
   "cell_type": "code",
   "execution_count": null,
   "metadata": {},
   "outputs": [],
   "source": [
    "### get the test images from the test_images folder\n",
    "images = glob.glob('./test*/lane_detection_image_edge.jpg')\n",
    "\n",
    "\n",
    "### Loop through each image and send it to the pipeline\n",
    "for fname in images:\n",
    "    img = cv2.imread(fname)\n",
    "    gray = cv2.cvtColor(img, cv2.COLOR_RGB2GRAY)\n",
    "    edge = apply_edge_filter(img)\n",
    "    \n",
    "    f, ((ax1, ax2, ax3)) = plt.subplots(1, 3, figsize=(16, 12)) #\n",
    "    ax1.imshow(img, cmap='gray')\n",
    "    ax1.set_title('Original', fontsize=15)\n",
    "    ax1.axis('off')\n",
    "    ax2.imshow(gray, cmap='gray')\n",
    "    ax2.set_title('Grayscale Filter', fontsize=15)\n",
    "    ax2.axis('off')\n",
    "    ax3.imshow(edge, cmap='gray')\n",
    "    ax3.set_title('Edge Detection Filter', fontsize=15)\n",
    "    ax3.axis('off')\n",
    "\n",
    "    plt.tight_layout()"
   ]
  }
 ],
 "metadata": {
  "kernelspec": {
   "display_name": "Python 3",
   "language": "python",
   "name": "python3"
  },
  "language_info": {
   "codemirror_mode": {
    "name": "ipython",
    "version": 3
   },
   "file_extension": ".py",
   "mimetype": "text/x-python",
   "name": "python",
   "nbconvert_exporter": "python",
   "pygments_lexer": "ipython3",
   "version": "3.7.7"
  }
 },
 "nbformat": 4,
 "nbformat_minor": 1
}
