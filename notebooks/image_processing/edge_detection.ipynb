{
 "cells": [
  {
   "cell_type": "code",
   "execution_count": null,
   "metadata": {},
   "outputs": [],
   "source": [
    "import numpy as np\n",
    "import cv2\n",
    "import glob\n",
    "import matplotlib.pyplot as plt\n",
    "import matplotlib.image as mpimg\n",
    "\n",
    "\n",
    "# %matplotlib qt\n",
    "%matplotlib inline"
   ]
  },
  {
   "cell_type": "code",
   "execution_count": null,
   "metadata": {},
   "outputs": [],
   "source": [
    "# Global functions\n",
    "\n",
    "def apply_sobel_filter(img, sx=True, sy=False, kernel_size=3, thresh=(25, 200)):\n",
    "    gray = cv2.cvtColor(img, cv2.COLOR_RGB2GRAY)\n",
    "    blur = cv2.GaussianBlur(gray, (kernel_size*3, kernel_size*3), 0)\n",
    "    sobelx = cv2.Sobel(blur, cv2.CV_64F, 1, 0, ksize=kernel_size)\n",
    "    sobely = cv2.Sobel(blur, cv2.CV_64F, 0, 1, ksize=kernel_size)\n",
    "\n",
    "    if sx:\n",
    "        abs_sobel = np.absolute(sobelx)\n",
    "        scaled_sobel = np.uint8(255 * abs_sobel / np.max(abs_sobel))\n",
    "    elif sy:\n",
    "        abs_sobel = np.absolute(sobely)\n",
    "        scaled_sobel = np.uint8(255 * abs_sobel / np.max(abs_sobel))\n",
    "    else:\n",
    "        mag_sobel = np.sqrt(np.square(sobelx) + np.square(sobely))\n",
    "        scaled_sobel = np.uint8(255 * mag_sobel / np.max(mag_sobel))\n",
    "\n",
    "    sxbinary = np.zeros_like(scaled_sobel)\n",
    "    sxbinary[(scaled_sobel >= thresh[0]) & (scaled_sobel <= thresh[1])] = 1\n",
    "\n",
    "    return sxbinary\n",
    "\n",
    "\n",
    "def apply_canny_filter(img, kernel_size=7, thresh=(30, 75)):\n",
    "    gray = cv2.cvtColor(img, cv2.COLOR_RGB2GRAY)\n",
    "    blurred = cv2.GaussianBlur(gray, (kernel_size, kernel_size), 0)\n",
    "    return cv2.Canny(blurred, thresh[0], thresh[1])\n",
    "\n",
    "def apply_edge_filter(img):\n",
    "    gray = cv2.cvtColor(img, cv2.COLOR_RGB2GRAY)\n",
    "    sobel = apply_sobel_filter(img)\n",
    "    canny = apply_canny_filter(img)\n",
    "    \n",
    "    combined_binary = np.zeros_like(gray)\n",
    "    combined_binary[ (sobel == 1) | (canny == 1) ] = 1\n",
    "    return combined_binary\n",
    "    \n"
   ]
  },
  {
   "cell_type": "code",
   "execution_count": null,
   "metadata": {},
   "outputs": [],
   "source": [
    "### get the test images from the test_images folder\n",
    "images = glob.glob('./test*/lane_detection_image_perspective.jpg')\n",
    "\n",
    "\n",
    "### Loop through each image and send it to the pipeline\n",
    "for fname in images:\n",
    "    img = cv2.imread(fname)\n",
    "    gray = cv2.cvtColor(img, cv2.COLOR_RGB2GRAY)\n",
    "    edge = apply_edge_filter(img)\n",
    "    \n",
    "    f, ((ax1, ax2, ax3)) = plt.subplots(1, 3, figsize=(16, 12)) #\n",
    "    ax1.imshow(img, cmap='gray')\n",
    "    ax1.set_title('Original', fontsize=15)\n",
    "    ax1.axis('off')\n",
    "    ax2.imshow(gray, cmap='gray')\n",
    "    ax2.set_title('Grayscale Filter', fontsize=15)\n",
    "    ax2.axis('off')\n",
    "    ax3.imshow(edge, cmap='gray')\n",
    "    ax3.set_title('Edge Detection Filter', fontsize=15)\n",
    "    ax3.axis('off')\n",
    "\n",
    "    plt.tight_layout()"
   ]
  },
  {
   "cell_type": "code",
   "execution_count": null,
   "metadata": {},
   "outputs": [],
   "source": []
  }
 ],
 "metadata": {
  "kernelspec": {
   "display_name": "Python 3",
   "language": "python",
   "name": "python3"
  },
  "language_info": {
   "codemirror_mode": {
    "name": "ipython",
    "version": 3
   },
   "file_extension": ".py",
   "mimetype": "text/x-python",
   "name": "python",
   "nbconvert_exporter": "python",
   "pygments_lexer": "ipython3",
   "version": "3.7.7"
  }
 },
 "nbformat": 4,
 "nbformat_minor": 1
}
